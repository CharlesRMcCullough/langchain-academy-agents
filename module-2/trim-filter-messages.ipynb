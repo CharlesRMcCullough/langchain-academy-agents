{
 "cells": [
  {
   "cell_type": "markdown",
   "id": "fb0ebaf1",
   "metadata": {},
   "source": [
    "[![Open in Colab](https://colab.research.google.com/assets/colab-badge.svg)](https://colab.research.google.com/github/langchain-ai/langchain-academy/blob/main/module-2/trim-filter-messages.ipynb) [![Open in LangChain Academy](https://cdn.prod.website-files.com/65b8cd72835ceeacd4449a53/66e9eba12c7b7688aa3dbb5e_LCA-badge-green.svg)](https://academy.langchain.com/courses/take/intro-to-langgraph/lessons/58239435-lesson-4-trim-and-filter-messages)"
   ]
  },
  {
   "cell_type": "markdown",
   "id": "c52ea2f9-03ff-4647-b782-46867ebed04e",
   "metadata": {},
   "source": [
    "# Filtering and trimming messages\n",
    "\n",
    "## Review\n",
    "\n",
    "Now, we have a deeper understanding of a few things: \n",
    "\n",
    "* How to customize the graph state schema\n",
    "* How to define custom state reducers\n",
    "* How to use multiple graph state schemas\n",
    "\n",
    "## Goals\n",
    "\n",
    "Now, we can start using these concepts with models in LangGraph!\n",
    " \n",
    "In the next few sessions, we'll build towards a chatbot that has long-term memory.\n",
    "\n",
    "Because our chatbot will use messages, let's first talk a bit more about advanced ways to work with messages in graph state."
   ]
  },
  {
   "cell_type": "code",
   "id": "d5197aba-5d46-421b-ae3b-4e3034edcfda",
   "metadata": {},
   "source": [
    "%%capture --no-stderr\n",
    "%pip install --quiet -U langchain_core langgraph langchain_openai"
   ],
   "outputs": [],
   "execution_count": null
  },
  {
   "metadata": {
    "ExecuteTime": {
     "end_time": "2024-11-30T17:00:08.617312Z",
     "start_time": "2024-11-30T17:00:08.361474Z"
    }
   },
   "cell_type": "code",
   "source": [
    "from langchain_community.llms import Ollama\n",
    "from langchain_ollama import ChatOllama"
   ],
   "id": "322e644038a39d7c",
   "outputs": [],
   "execution_count": 3
  },
  {
   "cell_type": "code",
   "id": "768dc606-d5f2-468d-96ea-910b264e0f8a",
   "metadata": {},
   "source": [
    "# import os, getpass\n",
    "#\n",
    "# def _set_env(var: str):\n",
    "#     if not os.environ.get(var):\n",
    "#         os.environ[var] = getpass.getpass(f\"{var}: \")\n",
    "#\n",
    "# _set_env(\"OPENAI_API_KEY\")"
   ],
   "outputs": [],
   "execution_count": null
  },
  {
   "cell_type": "markdown",
   "id": "8b64d8d3-e4ac-4961-bdc0-688825eb5864",
   "metadata": {},
   "source": [
    "We'll use [LangSmith](https://docs.smith.langchain.com/) for [tracing](https://docs.smith.langchain.com/concepts/tracing).\n",
    "\n",
    "We'll log to a project, `langchain-academy`. "
   ]
  },
  {
   "cell_type": "code",
   "id": "dd020c79",
   "metadata": {},
   "source": [
    "# _set_env(\"LANGCHAIN_API_KEY\")\n",
    "# os.environ[\"LANGCHAIN_TRACING_V2\"] = \"true\"\n",
    "# os.environ[\"LANGCHAIN_PROJECT\"] = \"langchain-academy\""
   ],
   "outputs": [],
   "execution_count": null
  },
  {
   "metadata": {
    "ExecuteTime": {
     "end_time": "2024-11-30T17:00:13.198617Z",
     "start_time": "2024-11-30T17:00:13.173984Z"
    }
   },
   "cell_type": "code",
   "source": "llm = ChatOllama(model=\"llama3.2:latest\", temperature=0)",
   "id": "d5a3376cef1f8da4",
   "outputs": [],
   "execution_count": 4
  },
  {
   "cell_type": "markdown",
   "id": "72f3fc90-58b6-4f7f-897e-dddf6ae532c7",
   "metadata": {},
   "source": [
    "## Messages as state\n",
    "\n",
    "First, let's define some messages."
   ]
  },
  {
   "cell_type": "code",
   "id": "cf11a463-e27a-4a05-b41d-64882e38edca",
   "metadata": {
    "ExecuteTime": {
     "end_time": "2024-11-30T16:59:37.763320Z",
     "start_time": "2024-11-30T16:59:37.659348Z"
    }
   },
   "source": [
    "from pprint import pprint\n",
    "from langchain_core.messages import AIMessage, HumanMessage\n",
    "messages = [AIMessage(f\"So you said you were researching ocean mammals?\", name=\"Bot\")]\n",
    "messages.append(HumanMessage(f\"Yes, I know about whales. But what others should I learn about?\", name=\"Lance\"))\n",
    "\n",
    "for m in messages:\n",
    "    m.pretty_print()"
   ],
   "outputs": [
    {
     "name": "stdout",
     "output_type": "stream",
     "text": [
      "==================================\u001B[1m Ai Message \u001B[0m==================================\n",
      "Name: Bot\n",
      "\n",
      "So you said you were researching ocean mammals?\n",
      "================================\u001B[1m Human Message \u001B[0m=================================\n",
      "Name: Lance\n",
      "\n",
      "Yes, I know about whales. But what others should I learn about?\n"
     ]
    }
   ],
   "execution_count": 1
  },
  {
   "cell_type": "markdown",
   "id": "b814adcb-6bf9-4b75-be11-e59f933fbd0c",
   "metadata": {},
   "source": [
    "Recall we can pass them to a chat model."
   ]
  },
  {
   "cell_type": "code",
   "id": "4712e288-e622-48a2-ad3f-a52f65f3ab08",
   "metadata": {
    "ExecuteTime": {
     "end_time": "2024-11-30T17:00:19.690231Z",
     "start_time": "2024-11-30T17:00:18.281857Z"
    }
   },
   "source": [
    "# from langchain_openai import ChatOpenAI\n",
    "# llm = ChatOpenAI(model=\"gpt-4o\")\n",
    "llm.invoke(messages)"
   ],
   "outputs": [
    {
     "data": {
      "text/plain": [
       "AIMessage(content='There are many fascinating ocean mammals beyond whales! Here are some examples:\\n\\n1. **Dolphins**: Known for their intelligence and social behavior, dolphins are highly intelligent and playful creatures.\\n2. **Seals and Sea Lions**: These pinnipeds (fin-footed mammals) are found in oceans worldwide and are known for their agility and playful nature.\\n3. **Walruses**: The largest of all pinnipeds, walruses are characterized by their distinctive tusks and blubbery skin.\\n4. **Manatees**: Also known as sea cows, manatees are large, slow-moving aquatic mammals that feed on seaweed and seagrass.\\n5. **Otters**: While not exclusively ocean-dwelling, some otter species, like the sea otter, spend a significant amount of time in the water and are adapted to marine life.\\n6. **Walrus-like creatures: The **Sirenians** (Manatees and Dugongs)**: These aquatic mammals are often overlooked but are fascinating creatures with unique adaptations for their environment.\\n\\nThese ocean mammals offer a glimpse into the diversity and complexity of marine ecosystems, and each has its own unique characteristics and behaviors.\\n\\nWould you like to learn more about any of these species?', additional_kwargs={}, response_metadata={'model': 'llama3.2:latest', 'created_at': '2024-11-30T17:00:19.687810492Z', 'done': True, 'done_reason': 'stop', 'total_duration': 1404060533, 'load_duration': 8416455, 'prompt_eval_count': 54, 'prompt_eval_duration': 8000000, 'eval_count': 257, 'eval_duration': 1387000000, 'message': Message(role='assistant', content='', images=None, tool_calls=None)}, id='run-6097a91b-9ee4-4fb2-82ac-9493f6a014c4-0', usage_metadata={'input_tokens': 54, 'output_tokens': 257, 'total_tokens': 311})"
      ]
     },
     "execution_count": 5,
     "metadata": {},
     "output_type": "execute_result"
    }
   ],
   "execution_count": 5
  },
  {
   "cell_type": "markdown",
   "id": "fbd1dab8-0af8-4621-8264-ce65065f76ec",
   "metadata": {},
   "source": [
    "We can run our chat model in a simple graph with `MessagesState`."
   ]
  },
  {
   "cell_type": "code",
   "id": "bbd8c39c-633b-4176-9cc6-8318e42bb5dd",
   "metadata": {
    "ExecuteTime": {
     "end_time": "2024-11-30T17:03:54.094523Z",
     "start_time": "2024-11-30T17:03:53.917852Z"
    }
   },
   "source": [
    "from IPython.display import Image, display\n",
    "from langgraph.graph import MessagesState\n",
    "from langgraph.graph import StateGraph, START, END\n",
    "\n",
    "# Node\n",
    "def chat_model_node(state: MessagesState):\n",
    "    return {\"messages\": llm.invoke(state[\"messages\"])}\n",
    "\n",
    "# Build graph\n",
    "builder = StateGraph(MessagesState)\n",
    "builder.add_node(\"chat_model\", chat_model_node)\n",
    "builder.add_edge(START, \"chat_model\")\n",
    "builder.add_edge(\"chat_model\", END)\n",
    "graph = builder.compile()\n",
    "\n",
    "# View\n",
    "display(Image(graph.get_graph().draw_mermaid_png()))"
   ],
   "outputs": [
    {
     "data": {
      "image/png": "[encoded data removed]",
      "text/plain": [
       "<IPython.core.display.Image object>"
      ]
     },
     "metadata": {},
     "output_type": "display_data"
    }
   ],
   "execution_count": 6
  },
  {
   "cell_type": "code",
   "id": "3a5a3e4a-ccfd-4d14-81f1-f0de6e11a1e4",
   "metadata": {
    "ExecuteTime": {
     "end_time": "2024-11-30T17:04:08.742740Z",
     "start_time": "2024-11-30T17:04:07.340531Z"
    }
   },
   "source": [
    "output = graph.invoke({'messages': messages})\n",
    "for m in output['messages']:\n",
    "    m.pretty_print()"
   ],
   "outputs": [
    {
     "name": "stdout",
     "output_type": "stream",
     "text": [
      "==================================\u001B[1m Ai Message \u001B[0m==================================\n",
      "Name: Bot\n",
      "\n",
      "So you said you were researching ocean mammals?\n",
      "================================\u001B[1m Human Message \u001B[0m=================================\n",
      "Name: Lance\n",
      "\n",
      "Yes, I know about whales. But what others should I learn about?\n",
      "==================================\u001B[1m Ai Message \u001B[0m==================================\n",
      "\n",
      "There are many fascinating ocean mammals beyond whales! Here are some examples:\n",
      "\n",
      "1. **Dolphins**: Known for their intelligence and social behavior, dolphins are highly intelligent and playful creatures.\n",
      "2. **Seals and Sea Lions**: These pinnipeds (fin-footed mammals) are found in oceans worldwide and are known for their agility and playful nature.\n",
      "3. **Walruses**: The largest of all pinnipeds, walruses are characterized by their distinctive tusks and blubbery skin.\n",
      "4. **Manatees**: Also known as sea cows, manatees are large, slow-moving aquatic mammals that feed on seaweed and seagrass.\n",
      "5. **Otters**: While not exclusively ocean-dwelling, some otter species, like the sea otter, spend a significant amount of time in the water and are adapted to marine life.\n",
      "6. **Walrus-like creatures: The **Sirenians** (Manatees and Dugongs)**: These aquatic mammals are often overlooked but are fascinating creatures with unique adaptations for their environment.\n",
      "\n",
      "These ocean mammals offer a glimpse into the diversity and complexity of marine ecosystems, and each has its own unique characteristics and behaviors.\n",
      "\n",
      "Would you like to learn more about any of these species?\n"
     ]
    }
   ],
   "execution_count": 7
  },
  {
   "cell_type": "markdown",
   "id": "34c33e63-1ef4-412d-bb10-6a1b9e5b35a7",
   "metadata": {},
   "source": [
    "## Reducer\n",
    "\n",
    "A practical challenge when working with messages is managing long-running conversations. \n",
    "\n",
    "Long-running conversations result in high token usage and latency if we are not careful, because we pass a growing list of messages to the model.\n",
    "\n",
    "We have a few ways to address this.\n",
    "\n",
    "First, recall the trick we saw using `RemoveMessage` and the `add_messages` reducer."
   ]
  },
  {
   "cell_type": "code",
   "id": "222c6bc5-bb0e-4a43-80f5-c8ec38d99f3a",
   "metadata": {
    "ExecuteTime": {
     "end_time": "2024-11-30T17:07:44.905153Z",
     "start_time": "2024-11-30T17:07:44.745963Z"
    }
   },
   "source": [
    "from langchain_core.messages import RemoveMessage\n",
    "\n",
    "# Nodes\n",
    "def filter_messages(state: MessagesState):\n",
    "    # Delete all but the 2 most recent messages\n",
    "    delete_messages = [RemoveMessage(id=m.id) for m in state[\"messages\"][:-2]]\n",
    "    return {\"messages\": delete_messages}\n",
    "\n",
    "def chat_model_node(state: MessagesState):    \n",
    "    return {\"messages\": [llm.invoke(state[\"messages\"])]}\n",
    "\n",
    "# Build graph\n",
    "builder = StateGraph(MessagesState)\n",
    "builder.add_node(\"filter\", filter_messages)\n",
    "builder.add_node(\"chat_model\", chat_model_node)\n",
    "builder.add_edge(START, \"filter\")\n",
    "builder.add_edge(\"filter\", \"chat_model\")\n",
    "builder.add_edge(\"chat_model\", END)\n",
    "graph = builder.compile()\n",
    "\n",
    "# View\n",
    "display(Image(graph.get_graph().draw_mermaid_png()))"
   ],
   "outputs": [
    {
     "data": {
      "image/png": "[encoded data removed]",
      "text/plain": [
       "<IPython.core.display.Image object>"
      ]
     },
     "metadata": {},
     "output_type": "display_data"
    }
   ],
   "execution_count": 8
  },
  {
   "cell_type": "code",
   "id": "95a7c2cc-54ce-43e7-9a90-abf37827d709",
   "metadata": {
    "ExecuteTime": {
     "end_time": "2024-11-30T17:07:55.280889Z",
     "start_time": "2024-11-30T17:07:53.867273Z"
    }
   },
   "source": [
    "# Message list with a preamble\n",
    "messages = [AIMessage(\"Hi.\", name=\"Bot\", id=\"1\")]\n",
    "messages.append(HumanMessage(\"Hi.\", name=\"Lance\", id=\"2\"))\n",
    "messages.append(AIMessage(\"So you said you were researching ocean mammals?\", name=\"Bot\", id=\"3\"))\n",
    "messages.append(HumanMessage(\"Yes, I know about whales. But what others should I learn about?\", name=\"Lance\", id=\"4\"))\n",
    "\n",
    "# Invoke\n",
    "output = graph.invoke({'messages': messages})\n",
    "for m in output['messages']:\n",
    "    m.pretty_print()"
   ],
   "outputs": [
    {
     "name": "stdout",
     "output_type": "stream",
     "text": [
      "==================================\u001B[1m Ai Message \u001B[0m==================================\n",
      "Name: Bot\n",
      "\n",
      "So you said you were researching ocean mammals?\n",
      "================================\u001B[1m Human Message \u001B[0m=================================\n",
      "Name: Lance\n",
      "\n",
      "Yes, I know about whales. But what others should I learn about?\n",
      "==================================\u001B[1m Ai Message \u001B[0m==================================\n",
      "\n",
      "There are many fascinating ocean mammals beyond whales! Here are some examples:\n",
      "\n",
      "1. **Dolphins**: Known for their intelligence and social behavior, dolphins are highly intelligent and playful creatures.\n",
      "2. **Seals and Sea Lions**: These pinnipeds (fin-footed mammals) are found in oceans worldwide and are known for their agility and playful nature.\n",
      "3. **Walruses**: The largest of all pinnipeds, walruses are characterized by their distinctive tusks and blubbery skin.\n",
      "4. **Manatees**: Also known as sea cows, manatees are large, slow-moving aquatic mammals that feed on seaweed and seagrass.\n",
      "5. **Otters**: While not exclusively ocean-dwelling, some otter species, like the sea otter, spend a significant amount of time in the water and are adapted to marine life.\n",
      "6. **Walrus-like creatures: The **Sirenians** (Manatees and Dugongs)**: These aquatic mammals are often overlooked but are fascinating creatures with unique adaptations for their environment.\n",
      "\n",
      "These ocean mammals offer a glimpse into the diversity and complexity of marine ecosystems, and each has its own unique characteristics and behaviors.\n",
      "\n",
      "Would you like to learn more about any of these species?\n"
     ]
    }
   ],
   "execution_count": 9
  },
  {
   "cell_type": "markdown",
   "id": "f506457d-014b-4fee-a684-e5edfb4b8f0d",
   "metadata": {},
   "source": [
    "## Filtering messages\n",
    "\n",
    "If you don't need or want to modify the graph state, you can just filter the messages you pass to the chat model.\n",
    "\n",
    "For example, just pass in a filtered list: `llm.invoke(messages[-1:])` to the model."
   ]
  },
  {
   "cell_type": "code",
   "id": "22d0b904-7cd6-486b-8948-105bee3d4683",
   "metadata": {
    "ExecuteTime": {
     "end_time": "2024-11-30T17:08:17.542104Z",
     "start_time": "2024-11-30T17:08:17.427991Z"
    }
   },
   "source": [
    "# Node\n",
    "def chat_model_node(state: MessagesState):\n",
    "    return {\"messages\": [llm.invoke(state[\"messages\"][-1:])]}\n",
    "\n",
    "# Build graph\n",
    "builder = StateGraph(MessagesState)\n",
    "builder.add_node(\"chat_model\", chat_model_node)\n",
    "builder.add_edge(START, \"chat_model\")\n",
    "builder.add_edge(\"chat_model\", END)\n",
    "graph = builder.compile()\n",
    "\n",
    "# View\n",
    "display(Image(graph.get_graph().draw_mermaid_png()))"
   ],
   "outputs": [
    {
     "data": {
      "image/png": "[encoded data removed]",
      "text/plain": [
       "<IPython.core.display.Image object>"
      ]
     },
     "metadata": {},
     "output_type": "display_data"
    }
   ],
   "execution_count": 10
  },
  {
   "cell_type": "markdown",
   "id": "6f58c6fc-532f-418d-b70a-cfcb3307daf5",
   "metadata": {},
   "source": [
    "Let's take our existing list of messages, append the above LLM response, and append a follow-up question."
   ]
  },
  {
   "cell_type": "code",
   "id": "16956015-1dbe-4108-89b5-4209b68b51ca",
   "metadata": {
    "ExecuteTime": {
     "end_time": "2024-11-30T17:08:22.705777Z",
     "start_time": "2024-11-30T17:08:22.702724Z"
    }
   },
   "source": [
    "messages.append(output['messages'][-1])\n",
    "messages.append(HumanMessage(f\"Tell me more about Narwhals!\", name=\"Lance\"))"
   ],
   "outputs": [],
   "execution_count": 11
  },
  {
   "cell_type": "code",
   "id": "85563415-c085-46a8-a4ac-155df798c54e",
   "metadata": {
    "ExecuteTime": {
     "end_time": "2024-11-30T17:08:28.462192Z",
     "start_time": "2024-11-30T17:08:28.459822Z"
    }
   },
   "source": [
    "for m in messages:\n",
    "    m.pretty_print()"
   ],
   "outputs": [
    {
     "name": "stdout",
     "output_type": "stream",
     "text": [
      "==================================\u001B[1m Ai Message \u001B[0m==================================\n",
      "Name: Bot\n",
      "\n",
      "Hi.\n",
      "================================\u001B[1m Human Message \u001B[0m=================================\n",
      "Name: Lance\n",
      "\n",
      "Hi.\n",
      "==================================\u001B[1m Ai Message \u001B[0m==================================\n",
      "Name: Bot\n",
      "\n",
      "So you said you were researching ocean mammals?\n",
      "================================\u001B[1m Human Message \u001B[0m=================================\n",
      "Name: Lance\n",
      "\n",
      "Yes, I know about whales. But what others should I learn about?\n",
      "==================================\u001B[1m Ai Message \u001B[0m==================================\n",
      "\n",
      "There are many fascinating ocean mammals beyond whales! Here are some examples:\n",
      "\n",
      "1. **Dolphins**: Known for their intelligence and social behavior, dolphins are highly intelligent and playful creatures.\n",
      "2. **Seals and Sea Lions**: These pinnipeds (fin-footed mammals) are found in oceans worldwide and are known for their agility and playful nature.\n",
      "3. **Walruses**: The largest of all pinnipeds, walruses are characterized by their distinctive tusks and blubbery skin.\n",
      "4. **Manatees**: Also known as sea cows, manatees are large, slow-moving aquatic mammals that feed on seaweed and seagrass.\n",
      "5. **Otters**: While not exclusively ocean-dwelling, some otter species, like the sea otter, spend a significant amount of time in the water and are adapted to marine life.\n",
      "6. **Walrus-like creatures: The **Sirenians** (Manatees and Dugongs)**: These aquatic mammals are often overlooked but are fascinating creatures with unique adaptations for their environment.\n",
      "\n",
      "These ocean mammals offer a glimpse into the diversity and complexity of marine ecosystems, and each has its own unique characteristics and behaviors.\n",
      "\n",
      "Would you like to learn more about any of these species?\n",
      "================================\u001B[1m Human Message \u001B[0m=================================\n",
      "Name: Lance\n",
      "\n",
      "Tell me more about Narwhals!\n"
     ]
    }
   ],
   "execution_count": 12
  },
  {
   "cell_type": "code",
   "id": "23349705-a059-47b5-9760-d8f64e687393",
   "metadata": {
    "ExecuteTime": {
     "end_time": "2024-11-30T17:08:41.900914Z",
     "start_time": "2024-11-30T17:08:39.158572Z"
    }
   },
   "source": [
    "# Invoke, using message filtering\n",
    "output = graph.invoke({'messages': messages})\n",
    "for m in output['messages']:\n",
    "    m.pretty_print()"
   ],
   "outputs": [
    {
     "name": "stdout",
     "output_type": "stream",
     "text": [
      "==================================\u001B[1m Ai Message \u001B[0m==================================\n",
      "Name: Bot\n",
      "\n",
      "Hi.\n",
      "================================\u001B[1m Human Message \u001B[0m=================================\n",
      "Name: Lance\n",
      "\n",
      "Hi.\n",
      "==================================\u001B[1m Ai Message \u001B[0m==================================\n",
      "Name: Bot\n",
      "\n",
      "So you said you were researching ocean mammals?\n",
      "================================\u001B[1m Human Message \u001B[0m=================================\n",
      "Name: Lance\n",
      "\n",
      "Yes, I know about whales. But what others should I learn about?\n",
      "==================================\u001B[1m Ai Message \u001B[0m==================================\n",
      "\n",
      "There are many fascinating ocean mammals beyond whales! Here are some examples:\n",
      "\n",
      "1. **Dolphins**: Known for their intelligence and social behavior, dolphins are highly intelligent and playful creatures.\n",
      "2. **Seals and Sea Lions**: These pinnipeds (fin-footed mammals) are found in oceans worldwide and are known for their agility and playful nature.\n",
      "3. **Walruses**: The largest of all pinnipeds, walruses are characterized by their distinctive tusks and blubbery skin.\n",
      "4. **Manatees**: Also known as sea cows, manatees are large, slow-moving aquatic mammals that feed on seaweed and seagrass.\n",
      "5. **Otters**: While not exclusively ocean-dwelling, some otter species, like the sea otter, spend a significant amount of time in the water and are adapted to marine life.\n",
      "6. **Walrus-like creatures: The **Sirenians** (Manatees and Dugongs)**: These aquatic mammals are often overlooked but are fascinating creatures with unique adaptations for their environment.\n",
      "\n",
      "These ocean mammals offer a glimpse into the diversity and complexity of marine ecosystems, and each has its own unique characteristics and behaviors.\n",
      "\n",
      "Would you like to learn more about any of these species?\n",
      "================================\u001B[1m Human Message \u001B[0m=================================\n",
      "Name: Lance\n",
      "\n",
      "Tell me more about Narwhals!\n",
      "==================================\u001B[1m Ai Message \u001B[0m==================================\n",
      "\n",
      "The narwhal! They're one of the most fascinating and mysterious creatures in the ocean. Here are some interesting facts about these Arctic wonders:\n",
      "\n",
      "1. **The Unicorn of the Sea**: The narwhal's distinctive tusk, which resembles a horn, has led to them being called the \"unicorn of the sea.\" However, it's not actually a horn, but rather a modified tooth that can grow up to 10 feet (3 meters) long.\n",
      "2. **Unique Tusk**: The purpose of the narwhal's tusk is still debated among scientists. Some believe it may be used for sensing the environment, attracting mates, or even breaking ice.\n",
      "3. **Arctic Habitat**: Narwhals are found in the Arctic waters of Canada, Greenland, and Russia. They inhabit areas with dense sea ice, where they can feed on arctic cod and other fish.\n",
      "4. **Social Animals**: Narwhals are highly social creatures that live in small groups, called \"pods.\" These pods typically consist of 10-100 individuals and are led by a dominant female.\n",
      "5. **Swimming Speed**: Despite their size, narwhals are incredibly fast swimmers, reaching speeds of up to 35 miles (56 kilometers) per hour.\n",
      "6. **Diving Ability**: Narwhals can dive to depths of up to 1,500 meters (4,900 feet), making them one of the deepest-diving mammals on record.\n",
      "7. **Conservation Status**: Narwhals are listed as \"vulnerable\" by the International Union for Conservation of Nature (IUCN). Their populations are declining due to climate change, habitat loss, and hunting.\n",
      "8. **Hunting History**: In the past, narwhal tusks were highly valued for their supposed magical properties and were often used in decorative items, such as jewelry and ornaments.\n",
      "9. **Rare Sightings**: Narwhals are notoriously difficult to spot in the wild due to their elusive nature and limited range. However, with the help of modern technology, such as sonar and camera traps, scientists have been able to study these creatures more effectively.\n",
      "10. **Cultural Significance**: In Inuit mythology, narwhals were believed to be a symbol of good luck and prosperity. They're also featured in various art forms, including music, literature, and film.\n",
      "\n",
      "These incredible creatures continue to captivate us with their unique appearance, fascinating behavior, and mysterious nature.\n"
     ]
    }
   ],
   "execution_count": 13
  },
  {
   "cell_type": "markdown",
   "id": "42e1d8d2-e297-4d78-b54c-d12b3c866745",
   "metadata": {},
   "source": [
    "The state has all of the mesages.\n",
    "\n",
    "But, let's look at the LangSmith trace to see that the model invocation only uses the last message:\n",
    "\n",
    "https://smith.langchain.com/public/75aca3ce-ef19-4b92-94be-0178c7a660d9/r"
   ]
  },
  {
   "cell_type": "markdown",
   "id": "fc40d930-3c1f-47fe-8d2a-ce174873353c",
   "metadata": {},
   "source": [
    "## Trim messages\n",
    "\n",
    "Another approach is to [trim messages](https://python.langchain.com/v0.2/docs/how_to/trim_messages/#getting-the-last-max_tokens-tokens), based upon a set number of tokens. \n",
    "\n",
    "This restricts the message history to a specified number of tokens.\n",
    "\n",
    "While filtering only returns a post-hoc subset of the messages between agents, trimming restricts the number of tokens that a chat model can use to respond.\n",
    "\n",
    "See the `trim_messages` below."
   ]
  },
  {
   "cell_type": "code",
   "id": "2ff99b81-cf03-4cc2-b44f-44829a73e1fd",
   "metadata": {
    "ExecuteTime": {
     "end_time": "2024-11-30T17:10:53.293753Z",
     "start_time": "2024-11-30T17:10:53.172077Z"
    }
   },
   "source": [
    "from langchain_core.messages import trim_messages\n",
    "\n",
    "# Node\n",
    "def chat_model_node(state: MessagesState):\n",
    "    messages = trim_messages(\n",
    "            state[\"messages\"],\n",
    "            max_tokens=100,\n",
    "            strategy=\"last\",\n",
    "            token_counter=ChatOllama(model=\"llama3.2:latest\"),\n",
    "            allow_partial=False,\n",
    "        )\n",
    "    return {\"messages\": [llm.invoke(messages)]}\n",
    "\n",
    "# Build graph\n",
    "builder = StateGraph(MessagesState)\n",
    "builder.add_node(\"chat_model\", chat_model_node)\n",
    "builder.add_edge(START, \"chat_model\")\n",
    "builder.add_edge(\"chat_model\", END)\n",
    "graph = builder.compile()\n",
    "\n",
    "# View\n",
    "display(Image(graph.get_graph().draw_mermaid_png()))"
   ],
   "outputs": [
    {
     "data": {
      "image/png": "[encoded data removed]",
      "text/plain": [
       "<IPython.core.display.Image object>"
      ]
     },
     "metadata": {},
     "output_type": "display_data"
    }
   ],
   "execution_count": 14
  },
  {
   "cell_type": "code",
   "id": "24df63ac-da29-4874-b3df-7e390e97cc8a",
   "metadata": {
    "ExecuteTime": {
     "end_time": "2024-11-30T17:11:40.857551Z",
     "start_time": "2024-11-30T17:11:40.855810Z"
    }
   },
   "source": [
    "messages.append(output['messages'][-1])\n",
    "messages.append(HumanMessage(f\"Tell me where Orcas live!\", name=\"Lance\"))"
   ],
   "outputs": [],
   "execution_count": 16
  },
  {
   "cell_type": "code",
   "id": "6d9d8971-c75c-43ca-a209-eb1d07b2ead0",
   "metadata": {
    "ExecuteTime": {
     "end_time": "2024-11-30T17:12:24.226935Z",
     "start_time": "2024-11-30T17:12:22.683314Z"
    }
   },
   "source": [
    "# Example of trimming messages\n",
    "trim_messages(\n",
    "            messages,\n",
    "            max_tokens=100,\n",
    "            strategy=\"last\",\n",
    "            token_counter=ChatOllama(model=\"llama3.2:latest\"),\n",
    "            allow_partial=False\n",
    "        )"
   ],
   "outputs": [
    {
     "name": "stderr",
     "output_type": "stream",
     "text": [
      "None of PyTorch, TensorFlow >= 2.0, or Flax have been found. Models won't be available and only tokenizers, configuration and file/data utilities can be used.\n"
     ]
    },
    {
     "data": {
      "text/plain": [
       "tokenizer_config.json:   0%|          | 0.00/26.0 [00:00<?, ?B/s]"
      ],
      "application/vnd.jupyter.widget-view+json": {
       "version_major": 2,
       "version_minor": 0,
       "model_id": "39494ef90a854393895163ee22fd64a4"
      }
     },
     "metadata": {},
     "output_type": "display_data"
    },
    {
     "data": {
      "text/plain": [
       "vocab.json:   0%|          | 0.00/1.04M [00:00<?, ?B/s]"
      ],
      "application/vnd.jupyter.widget-view+json": {
       "version_major": 2,
       "version_minor": 0,
       "model_id": "af67442f8b934934a31317a6486bf57d"
      }
     },
     "metadata": {},
     "output_type": "display_data"
    },
    {
     "data": {
      "text/plain": [
       "merges.txt:   0%|          | 0.00/456k [00:00<?, ?B/s]"
      ],
      "application/vnd.jupyter.widget-view+json": {
       "version_major": 2,
       "version_minor": 0,
       "model_id": "5ce628b4cf0744718d6873428f114f08"
      }
     },
     "metadata": {},
     "output_type": "display_data"
    },
    {
     "data": {
      "text/plain": [
       "tokenizer.json:   0%|          | 0.00/1.36M [00:00<?, ?B/s]"
      ],
      "application/vnd.jupyter.widget-view+json": {
       "version_major": 2,
       "version_minor": 0,
       "model_id": "ad947ccc74354728b17fa0c1235655e6"
      }
     },
     "metadata": {},
     "output_type": "display_data"
    },
    {
     "data": {
      "text/plain": [
       "config.json:   0%|          | 0.00/665 [00:00<?, ?B/s]"
      ],
      "application/vnd.jupyter.widget-view+json": {
       "version_major": 2,
       "version_minor": 0,
       "model_id": "a5c11fb5a9e64642ab1cdb6cc098acff"
      }
     },
     "metadata": {},
     "output_type": "display_data"
    },
    {
     "data": {
      "text/plain": [
       "[HumanMessage(content='Tell me where Orcas live!', additional_kwargs={}, response_metadata={}, name='Lance')]"
      ]
     },
     "execution_count": 18,
     "metadata": {},
     "output_type": "execute_result"
    }
   ],
   "execution_count": 18
  },
  {
   "cell_type": "code",
   "id": "ed70a269-a869-4fa0-a1df-29736a432c51",
   "metadata": {
    "ExecuteTime": {
     "end_time": "2024-11-30T17:12:54.248116Z",
     "start_time": "2024-11-30T17:12:52.759397Z"
    }
   },
   "source": [
    "# Invoke, using message trimming in the chat_model_node \n",
    "messages_out_trim = graph.invoke({'messages': messages})"
   ],
   "outputs": [],
   "execution_count": 19
  },
  {
   "cell_type": "markdown",
   "id": "38b3db67-380e-46b5-9a6a-20100ba52008",
   "metadata": {},
   "source": [
    "Let's look at the LangSmith trace to see the model invocation:\n",
    "\n",
    "https://smith.langchain.com/public/b153f7e9-f1a5-4d60-8074-f0d7ab5b42ef/r"
   ]
  }
 ],
 "metadata": {
  "kernelspec": {
   "display_name": "Python 3 (ipykernel)",
   "language": "python",
   "name": "python3"
  },
  "language_info": {
   "codemirror_mode": {
    "name": "ipython",
    "version": 3
   },
   "file_extension": ".py",
   "mimetype": "text/x-python",
   "name": "python",
   "nbconvert_exporter": "python",
   "pygments_lexer": "ipython3",
   "version": "3.12.1"
  }
 },
 "nbformat": 4,
 "nbformat_minor": 5
}
