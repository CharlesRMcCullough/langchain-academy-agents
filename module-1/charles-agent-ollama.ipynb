{
 "cells": [
  {
   "cell_type": "code",
   "metadata": {},
   "source": [
    "from langchain_community.llms import Ollama\n",
    "from langchain_ollama import ChatOllama\n",
    "from langgraph.graph import MessagesState\n",
    "from langchain_core.messages import AIMessage, HumanMessage, SystemMessage\n",
    "from langgraph.graph import START, StateGraph\n",
    "from langgraph.prebuilt import tools_condition, ToolNode\n",
    "from langgraph.checkpoint.memory import MemorySaver"
   ],
   "outputs": [],
   "execution_count": null
  },
  {
   "cell_type": "code",
   "metadata": {},
   "source": [
    "llm = ChatOllama(model=\"llama3.2:latest\", temperature=0)"
   ],
   "outputs": [],
   "execution_count": null
  },
  {
   "cell_type": "code",
   "metadata": {},
   "source": [
    "def reverse_string(s):\n",
    "    \"\"\"Reverses the input string.\"\"\"\n",
    "    return s[::-1]\n",
    "\n",
    "def capitalize_string(s):\n",
    "    \"\"\"Capsitizes the input string.\"\"\"\n",
    "    return s[:1].upper() + s[1:]\n",
    "\n",
    "def to_lowercase(s):\n",
    "    \"\"\"Converts the input string to lowercase.\"\"\"\n",
    "    return s.lower()\n",
    "\n",
    "def to_uppercase(s):\n",
    "    \"\"\"Converts the input string to uppercase.\"\"\"\n",
    "    return s.upper()\n"
   ],
   "outputs": [],
   "execution_count": null
  },
  {
   "cell_type": "code",
   "metadata": {},
   "source": [
    "tools = [reverse_string, capitalize_string, to_lowercase, to_uppercase]\n",
    "llm_with_tools = llm.bind_tools(tools)"
   ],
   "outputs": [],
   "execution_count": null
  },
  {
   "cell_type": "code",
   "metadata": {},
   "source": [
    "sys_msg = SystemMessage(content=\"Your are a helpful assistant tasked with performing string functions\")\n"
   ],
   "outputs": [],
   "execution_count": null
  },
  {
   "cell_type": "code",
   "metadata": {},
   "source": [
    "def assistant(state: MessagesState):\n",
    "    return {\"messages\": [llm_with_tools.invoke([sys_msg] + state[\"messages\"])]}"
   ],
   "outputs": [],
   "execution_count": null
  },
  {
   "cell_type": "markdown",
   "metadata": {},
   "source": [
    "#### Build Agent"
   ]
  },
  {
   "cell_type": "code",
   "metadata": {},
   "source": [
    "# Graph\n",
    "builder = StateGraph(MessagesState)\n",
    "memory = MemorySaver()\n",
    "\n",
    "# Define nodees: these do the work\n",
    "builder.add_node(\"assistant\", assistant)\n",
    "builder.add_node(\"tools\", ToolNode(tools))\n",
    "\n",
    "# Define edgesL these determine how the flow moves\n",
    "\n",
    "builder.add_edge(START, \"assistant\")\n",
    "builder.add_conditional_edges(\"assistant\", tools_condition,)\n",
    "\n",
    "builder.add_edge(\"tools\", \"assistant\")\n",
    "\n",
    "react_graph = builder.compile(checkpointer=memory)\n"
   ],
   "outputs": [],
   "execution_count": null
  },
  {
   "cell_type": "code",
   "metadata": {},
   "source": [
    "config = {\"configurable\": {\"thread_id\": \"1\"}}"
   ],
   "outputs": [],
   "execution_count": null
  },
  {
   "cell_type": "code",
   "metadata": {},
   "source": [
    "messages = [HumanMessage(content=\"Reverse this string 'Charles McCullough'\")]\n",
    "messages = react_graph.invoke({\"messages\": messages}, config)\n",
    "\n",
    "for m in messages['messages']:\n",
    "    m.pretty_print()\n"
   ],
   "outputs": [],
   "execution_count": null
  },
  {
   "cell_type": "code",
   "metadata": {},
   "source": [
    "messages = [HumanMessage(content=\"Now convert the reversed string to upper case.\")]\n",
    "messages = react_graph.invoke({\"messages\": messages}, config)\n",
    "for m in messages['messages']:\n",
    "    m.pretty_print()"
   ],
   "outputs": [],
   "execution_count": null
  },
  {
   "cell_type": "code",
   "metadata": {},
   "source": [
    "messages = [HumanMessage(content=\"Now reverse the string again and convert it to lower case.\")]\n",
    "messages = react_graph.invoke({\"messages\": messages}, config)\n",
    "for m in messages['messages']:\n",
    "    m.pretty_print()"
   ],
   "outputs": [],
   "execution_count": null
  },
  {
   "cell_type": "code",
   "metadata": {},
   "source": [
    "messages = [HumanMessage(content=\"Now capitize the string.\")]\n",
    "messages = react_graph.invoke({\"messages\": messages}, config)\n",
    "for m in messages['messages']:\n",
    "    m.pretty_print()"
   ],
   "outputs": [],
   "execution_count": null
  }
 ],
 "metadata": {
  "kernelspec": {
   "display_name": "LangchainCourseEnv",
   "language": "python",
   "name": "python3"
  },
  "language_info": {
   "codemirror_mode": {
    "name": "ipython",
    "version": 3
   },
   "file_extension": ".py",
   "mimetype": "text/x-python",
   "name": "python",
   "nbconvert_exporter": "python",
   "pygments_lexer": "ipython3",
   "version": "3.11.10"
  }
 },
 "nbformat": 4,
 "nbformat_minor": 2
}
